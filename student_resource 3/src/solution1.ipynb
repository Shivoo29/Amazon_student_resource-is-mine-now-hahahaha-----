{
 "cells": [
  {
   "cell_type": "code",
   "execution_count": 1,
   "metadata": {},
   "outputs": [],
   "source": [
    "import os\n",
    "import cv2\n",
    "import pandas as pd\n",
    "import numpy as np\n",
    "from PIL import Image\n",
    "import pytesseract\n",
    "from sklearn.model_selection import train_test_split\n",
    "from sklearn.ensemble import RandomForestClassifier\n",
    "from utils import parse_string\n",
    "import constants"
   ]
  },
  {
   "cell_type": "code",
   "execution_count": 2,
   "metadata": {},
   "outputs": [],
   "source": [
    "# Load data\n",
    "train_df = pd.read_csv('../dataset/train.csv')\n",
    "test_df = pd.read_csv('../dataset/test.csv')\n"
   ]
  },
  {
   "cell_type": "code",
   "execution_count": null,
   "metadata": {},
   "outputs": [],
   "source": [
    "def preprocess_image(image_path):\n",
    "    img = Image.open(image_path)\n",
    "    # Add your image preprocessing steps here\n",
    "    return img"
   ]
  },
  {
   "cell_type": "code",
   "execution_count": null,
   "metadata": {},
   "outputs": [],
   "source": [
    "def extract_text(img):\n",
    "    text = pytesseract.image_to_string(img)\n",
    "    return text"
   ]
  },
  {
   "cell_type": "code",
   "execution_count": null,
   "metadata": {},
   "outputs": [],
   "source": [
    "def extract_features(text, entity_name):\n",
    "    # Implement feature extraction logic based on the entity type\n",
    "    # This is a placeholder and needs to be expanded based on your specific approach\n",
    "    features = []\n",
    "    # Add your feature extraction logic here\n",
    "    return features"
   ]
  },
  {
   "cell_type": "code",
   "execution_count": null,
   "metadata": {},
   "outputs": [],
   "source": [
    "def train_model(X, y):\n",
    "    model = RandomForestClassifier(n_estimators=100, random_state=42)\n",
    "    model.fit(X, y)\n",
    "    return model"
   ]
  },
  {
   "cell_type": "code",
   "execution_count": null,
   "metadata": {},
   "outputs": [],
   "source": [
    "def predict_entity_value(model, features):\n",
    "    prediction = model.predict(features)\n",
    "    # Convert prediction to the required format (value + unit)\n",
    "    formatted_prediction = format_prediction(prediction)\n",
    "    return formatted_prediction"
   ]
  },
  {
   "cell_type": "code",
   "execution_count": null,
   "metadata": {},
   "outputs": [],
   "source": [
    "def format_prediction(prediction):\n",
    "    # Implement logic to format the prediction according to the required output format\n",
    "    # This is a placeholder and needs to be implemented based on your model's output\n",
    "    return f\"{prediction[0]} {prediction[1]}\""
   ]
  },
  {
   "cell_type": "code",
   "execution_count": null,
   "metadata": {},
   "outputs": [],
   "source": [
    "\n",
    "# Prepare training data\n",
    "X = []\n",
    "y = []\n",
    "for _, row in train_df.iterrows():\n",
    "    img_path = f\"../images/train/{os.path.basename(row['image_link'])}\"\n",
    "    img = preprocess_image(img_path)\n",
    "    text = extract_text(img)\n",
    "    features = extract_features(text, row['entity_name'])\n",
    "    X.append(features)\n",
    "    y.append(row['entity_value'])\n",
    "\n",
    "X_train, X_val, y_train, y_val = train_test_split(X, y, test_size=0.2, random_state=42)\n"
   ]
  },
  {
   "cell_type": "code",
   "execution_count": null,
   "metadata": {},
   "outputs": [],
   "source": [
    "# Make predictions on test set\n",
    "test_predictions = []\n",
    "for _, row in test_df.iterrows():\n",
    "    img_path = f\"../images/test/{os.path.basename(row['image_link'])}\"\n",
    "    img = preprocess_image(img_path)\n",
    "    text = extract_text(img)\n",
    "    features = extract_features(text, row['entity_name'])\n",
    "    prediction = predict_entity_value(model, features)\n",
    "    test_predictions.append(prediction)"
   ]
  },
  {
   "cell_type": "code",
   "execution_count": null,
   "metadata": {},
   "outputs": [],
   "source": [
    "# Create output file\n",
    "output_df = pd.DataFrame({\n",
    "    'index': test_df['index'],\n",
    "    'prediction': test_predictions\n",
    "})\n",
    "output_df.to_csv('test_out.csv', index=False)\n"
   ]
  },
  {
   "cell_type": "code",
   "execution_count": null,
   "metadata": {},
   "outputs": [],
   "source": [
    "# Run sanity check\n",
    "!python sanity.py --test_filename ../dataset/test.csv --output_filename test_out.csv"
   ]
  }
 ],
 "metadata": {
  "kernelspec": {
   "display_name": "base",
   "language": "python",
   "name": "python3"
  },
  "language_info": {
   "codemirror_mode": {
    "name": "ipython",
    "version": 3
   },
   "file_extension": ".py",
   "mimetype": "text/x-python",
   "name": "python",
   "nbconvert_exporter": "python",
   "pygments_lexer": "ipython3",
   "version": "3.12.2"
  }
 },
 "nbformat": 4,
 "nbformat_minor": 2
}
